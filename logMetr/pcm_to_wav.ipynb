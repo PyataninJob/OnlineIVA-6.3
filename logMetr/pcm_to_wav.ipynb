{
 "cells": [
  {
   "cell_type": "code",
   "execution_count": 4,
   "metadata": {},
   "outputs": [
    {
     "name": "stdout",
     "output_type": "stream",
     "text": [
      "Файл /home/pyatanin/VSproj/30.09.2024/august/output_test_2_10min_bitdepth16/part0.wav успешно создан.\n",
      "Файл /home/pyatanin/VSproj/30.09.2024/august/output_record_3_bitdepth16/part0.wav успешно создан.\n",
      "Файл /home/pyatanin/VSproj/30.09.2024/august/output_record_3_bitdepth16/part1.wav успешно создан.\n"
     ]
    }
   ],
   "source": [
    "import wave\n",
    "import numpy as np\n",
    "import os\n",
    "\n",
    "def pcm_to_wav_chunks(pcm_file_path, wav_file_base_path, sample_rate, num_channels, max_wav_size=2**31-1):\n",
    "    bit_depths = [ \n",
    "                  16,\n",
    "                #   64\n",
    "                  ]\n",
    "    # Перебираемые битовые глубины\n",
    "    chunk_size = 1024 * 1024 * 1024  # Размер чанка для чтения данных (1 GB)\n",
    "\n",
    "    for bits_per_sample in bit_depths:\n",
    "        try:\n",
    "            # Определение типа данных на основе битовой глубины\n",
    "            if bits_per_sample == 8:\n",
    "                dtype = np.uint8  # 8-битные данные без знака\n",
    "            elif bits_per_sample == 16:\n",
    "                dtype = np.int16  # 16-битные данные со знаком\n",
    "            # elif bits_per_sample == 32:\n",
    "            #     dtype = np.int32  # 32-битные данные со знаком\n",
    "            elif bits_per_sample == 64:\n",
    "                dtype = np.float64  # 64-битные данные с плавающей точкой\n",
    "            else:\n",
    "                raise ValueError(\"Неподдерживаемая битовая глубина\")\n",
    "\n",
    "            # Создание папки для текущего файла\n",
    "            output_dir = f\"{wav_file_base_path}_bitdepth{bits_per_sample}\"\n",
    "            os.makedirs(output_dir, exist_ok=True)\n",
    "\n",
    "            # Чтение данных из .pcm файла и запись в .wav файлы порциями\n",
    "            with open(pcm_file_path, 'rb') as pcm_file:\n",
    "                chunk_index = 0\n",
    "                while True:\n",
    "                    raw_data = pcm_file.read(chunk_size)\n",
    "                    if not raw_data:\n",
    "                        break\n",
    "\n",
    "                    audio_data = np.frombuffer(raw_data, dtype=dtype)\n",
    "\n",
    "                    # Если данные с плавающей точкой, нормализуем и преобразуем в int16\n",
    "                    if bits_per_sample == 64:\n",
    "                        audio_data = (audio_data * 32767).astype(np.int16)\n",
    "\n",
    "                    wav_file_path = os.path.join(output_dir, f\"part{chunk_index}.wav\")\n",
    "                    with wave.open(wav_file_path, 'wb') as wav_file:\n",
    "                        wav_file.setnchannels(num_channels)\n",
    "                        wav_file.setsampwidth(2 if bits_per_sample == 64 else bits_per_sample // 8)\n",
    "                        wav_file.setframerate(sample_rate)\n",
    "                        wav_file.writeframes(audio_data.tobytes())\n",
    "\n",
    "                    # Проверка размера файла\n",
    "                    if os.path.getsize(wav_file_path) > max_wav_size:\n",
    "                        print(f\"Файл {wav_file_path} превышает максимальный размер и будет разбит на части.\")\n",
    "                        os.remove(wav_file_path)\n",
    "                        break\n",
    "\n",
    "                    print(f\"Файл {wav_file_path} успешно создан.\")\n",
    "                    chunk_index += 1\n",
    "\n",
    "        except Exception as e:\n",
    "            print(f\"Ошибка при обработке битовой глубины {bits_per_sample}: {e}\")\n",
    "\n",
    "# Пример использования\n",
    "dir_file = \"/home/pyatanin/VSproj/30.09.2024/august_records/\"\n",
    "dir_out = \"/home/pyatanin/VSproj/30.09.2024/august/\"\n",
    "filename_List = [\n",
    "    'output_test_2_10min.pcm',\n",
    "    # 'test_2_10min.pcm',\n",
    "    'output_record_3.pcm',\n",
    "]\n",
    "sample_rate = 16000  # Частота дискретизации в Гц\n",
    "num_channels = 4     # Количество каналов\n",
    "\n",
    "for file_name in filename_List:\n",
    "    pcm_file_path = dir_file + file_name\n",
    "    wav_file_base_path = os.path.join(dir_out, file_name.replace('.pcm', ''))\n",
    "    pcm_to_wav_chunks(pcm_file_path, wav_file_base_path, sample_rate, num_channels)"
   ]
  },
  {
   "cell_type": "code",
   "execution_count": null,
   "metadata": {},
   "outputs": [],
   "source": []
  }
 ],
 "metadata": {
  "kernelspec": {
   "display_name": "logenv",
   "language": "python",
   "name": "python3"
  },
  "language_info": {
   "codemirror_mode": {
    "name": "ipython",
    "version": 3
   },
   "file_extension": ".py",
   "mimetype": "text/x-python",
   "name": "python",
   "nbconvert_exporter": "python",
   "pygments_lexer": "ipython3",
   "version": "3.9.19"
  }
 },
 "nbformat": 4,
 "nbformat_minor": 2
}
